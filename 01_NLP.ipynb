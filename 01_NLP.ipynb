{
  "nbformat": 4,
  "nbformat_minor": 0,
  "metadata": {
    "colab": {
      "name": "01_NLP.ipynb",
      "provenance": [],
      "collapsed_sections": [],
      "authorship_tag": "ABX9TyO+I8rT7/Xj+ffm5z9GUstp"
    },
    "kernelspec": {
      "name": "python3",
      "display_name": "Python 3"
    },
    "language_info": {
      "name": "python"
    }
  },
  "cells": [
    {
      "cell_type": "code",
      "execution_count": 5,
      "metadata": {
        "id": "PTxnsSTPhKSm"
      },
      "outputs": [],
      "source": [
        "\n",
        "from nltk.stem.wordnet import WordNetLemmatizer\n",
        "import string\n",
        "import gensim\n",
        "from gensim import corpora\n",
        "from nltk.corpus import stopwords\n",
        "import nltk\n",
        "from nltk.chat.util import Chat, reflections\n",
        "from sys import version_info\n",
        "\n",
        "from nltk.corpus import stopwords\n",
        "from nltk.tokenize import word_tokenize\n",
        "from nltk.stem import PorterStemmer, WordNetLemmatizer\n",
        "from string import punctuation\n",
        "import nltk\n",
        "from nltk.chat.util import Chat, reflections\n",
        "from sys import version_info\n",
        "from string import punctuation \n",
        "from nltk.corpus import stopwords\n",
        "from nltk.tokenize import word_tokenize\n",
        "from nltk.stem import PorterStemmer, WordNetLemmatizer"
      ]
    },
    {
      "cell_type": "code",
      "source": [
        "\n"
      ],
      "metadata": {
        "id": "A28Qeq85hbYW"
      },
      "execution_count": 8,
      "outputs": []
    },
    {
      "cell_type": "code",
      "source": [
        "import nltk\n",
        "nltk.download('stopwords')\n",
        "nltk.download('wordnet')"
      ],
      "metadata": {
        "colab": {
          "base_uri": "https://localhost:8080/"
        },
        "id": "Mf6rFZ_4ObpH",
        "outputId": "3aada2e8-e940-4e1f-fbb1-4f77f1c1ad5c"
      },
      "execution_count": 6,
      "outputs": [
        {
          "output_type": "stream",
          "name": "stdout",
          "text": [
            "[nltk_data] Downloading package stopwords to /root/nltk_data...\n",
            "[nltk_data]   Unzipping corpora/stopwords.zip.\n",
            "[nltk_data] Downloading package wordnet to /root/nltk_data...\n",
            "[nltk_data]   Unzipping corpora/wordnet.zip.\n"
          ]
        },
        {
          "output_type": "execute_result",
          "data": {
            "text/plain": [
              "True"
            ]
          },
          "metadata": {},
          "execution_count": 6
        }
      ]
    },
    {
      "cell_type": "code",
      "source": [
        "pairs = [\n",
        "    [\n",
        "        r\"How can I avail internet reservation facility through credit cards?\",\n",
        "        ['Recently internet reservation facility has started on Indian Railways. The web site http://www.irctc.co.in is operational, wherein you can get the railway reservation done through Credit Cards.For more on Reservation through credit cards click here  Internet Reservation',]\n",
        "    ],\n",
        "    [\n",
        "        r'Why are PNR and reservation availability queries not available after certain timings at night?',\n",
        "        ['The online PNR and seat availability queries are fetched from the computerized reservation applications. These online reservation applications are shut down daily around 2330 hrs to 0030 hrs IST. Due to the dynamic changes taking place in the PNR status updation and the availability positions, these two types of queries have to be fetched from the online reservation applications, hence the non- availability of them after certain timings. The sheer size of these databases does not allow them to be copied over network lines.Please note that the web site is functional 24 hrs. a day and other queries (trains between any two stations, fare queries, etc.) are functional throughout the day.',]\n",
        "    ],\n",
        "    [\n",
        "    r'How can I avail the enquiries, through SMS on mobile phones?',\n",
        "    ['Now all the enquiries offered on the web site www.indianrail.gov.in are available on your mobile phone through SMS facility. For more information on the mobile service providers and the key words to be used on the mobile, please click here, SMS help . Please note that we are giving the backend service only for the SMS queries. For more information and help on key words and SMS facility, kindly contact the mobile service provider according to the table.',]\n",
        "    ],\n",
        "    [\n",
        "    r'Why do sometimes the fonts, colors schemes and java scripts behave differently in some browser or browsers?',\n",
        "    ['This web site is best viewed with Microsoft Internet Explorer 6.0 and above. It might not give desired results with other browsers. All the pages, color schemes and scripts have been tested for IE 6.0 and above. ',]\n",
        "    ],\n",
        "    [\n",
        "    r'Where can I get the latest arrival and departure timings of trains, when they get delayed?',\n",
        "    ['The latest arrival and departure timings of delayed trains, alongwith diverted routes etc. will be made available shortly on this web site only.',]\n",
        "    ],\n",
        "    [\n",
        "    r'Where can I lodge complaint against any type of grievances in the Trains, Platforms, officials for problems on this web site and give suggestions?',\n",
        "    ['The complaint software is presently under development. We try our best to forward your grievances to the concerned department. However please note that this is not always possible. Please note that all your complaints and suggestions for the improvement of the web site http://www.indianrail.gov.in  can be put on the Feedback & suggestions page. Please note that, in case of any problems, give the query type (hyper link), the inputs which you gave, and the exact error message generated by this web site. All this will help us in solving the problems quickly. In the absence of such inputs, we cannot solve the problems.',]\n",
        "    ],\n",
        "]\n"
      ],
      "metadata": {
        "id": "k5CnjiiYhbcD"
      },
      "execution_count": 7,
      "outputs": []
    },
    {
      "cell_type": "code",
      "source": [
        "def unique(list1):\n",
        "    # intilize a null list\n",
        "    unique_list = []\n",
        "    # traverse for all elements\n",
        "    for x in list1:\n",
        "        # check if exists in unique_list or not\n",
        "        if x not in unique_list:\n",
        "            unique_list.append(x)\n",
        "    return(unique_list)\n",
        "lemmatiser = WordNetLemmatizer()\n",
        "def preprocessing (sent) :\n",
        "    rem_words = ['get', 'avail', 'who' , 'where', 'how' , 'what', 'why' , 'when', 'I', 'can']\n",
        "    ##print(sent)\n",
        "    # remove punctuation\n",
        "    # convert to lower\n",
        "    for p in list(punctuation):\n",
        "        sent=sent.replace(p,'')\n",
        "    sent=sent.lower().split()\n",
        "    #remove stop words \n",
        "    stop_words = set(stopwords.words('english'))\n",
        "    sent = [i for i in sent if not i in stop_words]\n",
        "    sent = [i for i in sent if not i in rem_words]\n",
        "    # lemmitise \n",
        "    #[item.upper() for item in mylis]\n",
        "    sent = [lemmatiser.lemmatize(item, pos=\"v\") for item  in sent ]\n",
        "    return(unique(sent))\n"
      ],
      "metadata": {
        "id": "4lAMppO8vbYe"
      },
      "execution_count": 8,
      "outputs": []
    },
    {
      "cell_type": "code",
      "source": [
        "def tellme_bot():\n",
        "    while(1):\n",
        "        response = input(\"Tell Me. [q to quit]>\")\n",
        "        if response == 'q':\n",
        "            break\n",
        "        i=0\n",
        "        chosen = len(pairs)\n",
        "        matches = 0\n",
        "        list_response=preprocessing(response)\n",
        "        # print('\\n response is : -> \\n ',list_response)\n",
        "        while (i<len(pairs)):\n",
        "            loc_matches = 0 \n",
        "            x=pairs[i][0] + \"  \".join(pairs[i][1])\n",
        "            # print('\\n x ie x=pairs[i][0] + \"  \".join(pairs[i][1]) -> ',x)\n",
        "            list_pair=preprocessing(x)\n",
        "            # print('\\n listpair is : -> \\n ',list_pair)\n",
        "            for word in list_pair:\n",
        "                if word in list_response:\n",
        "                    loc_matches=loc_matches+1\n",
        "            if ( loc_matches > matches ):\n",
        "                chosen = i \n",
        "                matches = loc_matches\n",
        "            i = i + 1 \n",
        "        if ( chosen <len(pairs) ) :\n",
        "            ans=pairs[chosen][1]\n",
        "            print(ans[0] ) \n",
        "        else :\n",
        "            print(\"Unable to answer this question\" ) \n",
        "        break\n",
        "# Let us now call our bot with input \"CAN I RESERVE RAILWAYS BOOKING\" and see its response. \n",
        "tellme_bot()\n",
        "# #prints Tell Me. [q to quit]>CAN I RESERVE RAILWAYS BOOKING\n",
        "# Recently internet reservation facility has started on Indian Railways. The web site http://www.irctc.co.in \n",
        "# is operational, wherein you can get the railway reservation done through Credit Cards.For more on Reservation \n",
        "# through credit cards click here Internet Reservation\n"
      ],
      "metadata": {
        "colab": {
          "base_uri": "https://localhost:8080/"
        },
        "id": "hY7F1_FyOD98",
        "outputId": "84747495-5fd9-4372-f3e8-91e0dedb1d8f"
      },
      "execution_count": 9,
      "outputs": [
        {
          "output_type": "stream",
          "name": "stdout",
          "text": [
            "Tell Me. [q to quit]>\"CAN I RESERVE RAILWAYS BOOKING\"\n",
            "Recently internet reservation facility has started on Indian Railways. The web site http://www.irctc.co.in is operational, wherein you can get the railway reservation done through Credit Cards.For more on Reservation through credit cards click here  Internet Reservation\n"
          ]
        }
      ]
    }
  ]
}